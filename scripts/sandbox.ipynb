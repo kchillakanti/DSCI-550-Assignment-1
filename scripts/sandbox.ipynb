{
 "cells": [
  {
   "cell_type": "markdown",
   "metadata": {
    "vscode": {
     "languageId": "plaintext"
    }
   },
   "source": [
    "This is jupyter notebook for teamates who are not familar with command line interface"
   ]
  },
  {
   "cell_type": "code",
   "execution_count": 2,
   "metadata": {},
   "outputs": [],
   "source": [
    "import pandas as pd"
   ]
  },
  {
   "cell_type": "code",
   "execution_count": 4,
   "metadata": {},
   "outputs": [],
   "source": [
    "path = '../data/haunted_places.tsv'\n",
    "df= pd.read_csv(path, sep='\\t')"
   ]
  },
  {
   "cell_type": "code",
   "execution_count": 15,
   "metadata": {},
   "outputs": [
    {
     "name": "stdout",
     "output_type": "stream",
     "text": [
      "4386\n"
     ]
    }
   ],
   "source": [
    "# The number of unique cities\n",
    "print(len(df.city.unique()))"
   ]
  },
  {
   "cell_type": "code",
   "execution_count": 33,
   "metadata": {},
   "outputs": [
    {
     "name": "stdout",
     "output_type": "stream",
     "text": [
      "\n",
      "--- Raw Data (City-Level) ---\n",
      "           city state   sunrise    sunset  daylight_minutes\n",
      "0          Adak    AK  08:21 AM  07:34 PM             673.0\n",
      "1        Albany    NY  06:23 AM  05:49 PM             686.0\n",
      "2   Albuquerque    NM  06:30 AM  06:06 PM             696.0\n",
      "3          Ames    IA  06:42 AM  06:09 PM             687.0\n",
      "4     Anchorage    AK  07:46 AM  06:36 PM             650.0\n",
      "5     Annapolis    MD  06:32 AM  06:03 PM             691.0\n",
      "6       Atlanta    GA  07:00 AM  06:37 PM             697.0\n",
      "7       Augusta    ME  06:08 AM  05:32 PM             684.0\n",
      "8        Austin    TX  06:52 AM  06:32 PM             700.0\n",
      "9     Baltimore    MD  06:32 AM  06:03 PM             691.0\n",
      "10  Baton Rouge    LA  06:25 AM  06:06 PM             701.0\n",
      "11     Billings    MT  06:44 AM  06:06 PM             682.0\n",
      "12     Bismarck    ND  07:14 AM  06:35 PM             681.0\n",
      "13        Boise    ID  07:13 AM  06:39 PM             686.0\n",
      "14       Boston    MA  06:12 AM  05:39 PM             687.0\n",
      "15  Carson City    NV  06:25 AM  05:56 PM             691.0\n",
      "16   Charleston    WV  06:52 AM  06:24 PM             692.0\n",
      "17      Chicago    IL  06:18 AM  05:45 PM             687.0\n",
      "18     Columbia    SC  06:47 AM  06:24 PM             697.0\n",
      "19     Columbia    MO  06:35 AM  06:06 PM             691.0\n",
      "\n",
      "--- Average Daylight Hours of major cities ---\n"
     ]
    },
    {
     "data": {
      "text/plain": [
       "686.2"
      ]
     },
     "execution_count": 33,
     "metadata": {},
     "output_type": "execute_result"
    }
   ],
   "source": [
    "import requests\n",
    "from bs4 import BeautifulSoup\n",
    "import pandas as pd\n",
    "from datetime import datetime\n",
    "\n",
    "##################################################################################3\n",
    "# Source 1 : https://www.timeanddate.com/astronomy/usa\n",
    "\n",
    "def webcrawl_daylight():\n",
    "    # URL of interest\n",
    "    url = \"https://www.timeanddate.com/astronomy/usa\"\n",
    "    \n",
    "    # 1. Fetch the page content\n",
    "    response = requests.get(url)\n",
    "    if response.status_code != 200:\n",
    "        print(f\"Failed to retrieve page, status code: {response.status_code}\")\n",
    "        return None, None\n",
    "\n",
    "    # 2. Parse the HTML\n",
    "    soup = BeautifulSoup(response.text, 'html.parser')\n",
    "    \n",
    "    # 3. Find the target table (class=\"zebra fw tb-sm zebra\")\n",
    "    table = soup.find('table', {'class': 'zebra fw tb-sm zebra'})\n",
    "    if not table:\n",
    "        print(\"Could not find the expected table on the page.\")\n",
    "        return None, None\n",
    "\n",
    "    data = []\n",
    "\n",
    "    # 4. Loop over each row in the table (skipping the header)\n",
    "    rows = table.find_all('tr')[1:]  # first row is the header\n",
    "    for row in rows:\n",
    "        cols = row.find_all('td')\n",
    "        if len(cols) < 3:\n",
    "            # Not a valid data row\n",
    "            continue\n",
    "\n",
    "        # Column 0: City/State info (e.g. \"Adak (AK)\")\n",
    "        city_state_full = cols[0].get_text(strip=True)\n",
    "\n",
    "        # Attempt to parse city and state. \n",
    "        # The format might be something like \"Adak (AK)\" or \"Akron – Ohio – USA\"\n",
    "        # Adjust parsing logic according to actual structure you see on the site.\n",
    "        # For demonstration, let's do a simple split:\n",
    "        if \" – \" in city_state_full:\n",
    "            parts = [p.strip() for p in city_state_full.split(\"–\")]\n",
    "            if len(parts) >= 2:\n",
    "                city = parts[0]\n",
    "                state = parts[1]\n",
    "            else:\n",
    "                city = city_state_full\n",
    "                state = \"Unknown\"\n",
    "        else:\n",
    "            # If the string is like \"Adak (AK)\"\n",
    "            city = city_state_full\n",
    "            # Extract something in parentheses as state, e.g. (AK)\n",
    "            # This is optional and depends on the site’s structure\n",
    "            if \"(\" in city_state_full and \")\" in city_state_full:\n",
    "                state = city_state_full[city_state_full.index(\"(\")+1 : city_state_full.index(\")\")]\n",
    "                # Also remove the parentheses from city name\n",
    "                city = city_state_full.split(\"(\")[0].strip()\n",
    "            else:\n",
    "                state = \"Unknown\"\n",
    "\n",
    "        # Column 1: Sunrise time (might include '↑')\n",
    "        sunrise_str = cols[1].get_text(strip=True)\n",
    "        # Column 2: Sunset time (might include '↓')\n",
    "        sunset_str = cols[2].get_text(strip=True)\n",
    "\n",
    "        # Remove unwanted symbols/characters\n",
    "        for arrow in ['↑', '↓']:\n",
    "            sunrise_str = sunrise_str.replace(arrow, '').strip()\n",
    "            sunset_str = sunset_str.replace(arrow, '').strip()\n",
    "\n",
    "        # 5. Parse times into datetime objects so we can compute the difference\n",
    "        # Use a dummy date to parse times\n",
    "        date_str = \"2025-01-01\"  \n",
    "        \n",
    "        try:\n",
    "            sunrise_dt = datetime.strptime(date_str + \" \" + sunrise_str, \"%Y-%m-%d %I:%M %p\")\n",
    "            sunset_dt = datetime.strptime(date_str + \" \" + sunset_str, \"%Y-%m-%d %I:%M %p\")\n",
    "            # Compute difference in hours\n",
    "            daylight_minutes = (sunset_dt - sunrise_dt).total_seconds() / 60\n",
    "        except Exception as e:\n",
    "            # If parsing fails, skip\n",
    "            print(f\"Parsing error for city={city}, sunrise={sunrise_str}, sunset={sunset_str}, error={e}\")\n",
    "            continue\n",
    "        \n",
    "        data.append({\n",
    "            \"city\": city,\n",
    "            \"state\": state,\n",
    "            \"sunrise\": sunrise_dt.strftime(\"%I:%M %p\"),\n",
    "            \"sunset\": sunset_dt.strftime(\"%I:%M %p\"),\n",
    "            \"daylight_minutes\": daylight_minutes\n",
    "        })\n",
    "\n",
    "    # 6. Create a DataFrame\n",
    "    df = pd.DataFrame(data)\n",
    "\n",
    "    avg_major_cities = df['daylight_minutes'].mean()\n",
    "\n",
    "    # 7. Calculate average daylight hours by State\n",
    "    #avg_by_state = (\n",
    "    #    df.groupby(\"state\")[\"daylight_minutes\"]\n",
    "    #      .mean()\n",
    "    #      .reset_index()\n",
    "    #      .rename(columns={\"daylight_minutes\": \"avg_daylight_minutes\"})\n",
    "    #)\n",
    "\n",
    "    return df, avg_major_cities\n",
    "\n",
    "def generate_daylight_avg_by_state():\n",
    "    # avg_by_state has two columns: [state, avg_daylight_minutes]\n",
    "    df, avg_daylight_of_major_cities = webcrawl_daylight()\n",
    "    if df is not None and avg_daylight_of_major_cities is not None:\n",
    "        print(\"\\n--- Raw Data (City-Level) ---\")\n",
    "        print(df.head(20))\n",
    "\n",
    "        print(\"\\n--- Average Daylight Hours of major cities ---\")\n",
    "        #print(avg_daylight_of_major_cities.sort_values(\"avg_daylight_minutes\", ascending=False))\n",
    "    #avg_daylight_of_major_cities.to_csv('../data/daylight_s1')\n",
    "    return round(avg_daylight_of_major_cities,1)\n",
    "\n",
    "generate_daylight_avg_by_state()"
   ]
  },
  {
   "cell_type": "code",
   "execution_count": 34,
   "metadata": {},
   "outputs": [
    {
     "data": {
      "text/html": [
       "<div>\n",
       "<style scoped>\n",
       "    .dataframe tbody tr th:only-of-type {\n",
       "        vertical-align: middle;\n",
       "    }\n",
       "\n",
       "    .dataframe tbody tr th {\n",
       "        vertical-align: top;\n",
       "    }\n",
       "\n",
       "    .dataframe thead th {\n",
       "        text-align: right;\n",
       "    }\n",
       "</style>\n",
       "<table border=\"1\" class=\"dataframe\">\n",
       "  <thead>\n",
       "    <tr style=\"text-align: right;\">\n",
       "      <th></th>\n",
       "      <th>A</th>\n",
       "      <th>B</th>\n",
       "      <th>C</th>\n",
       "    </tr>\n",
       "  </thead>\n",
       "  <tbody>\n",
       "    <tr>\n",
       "      <th>0</th>\n",
       "      <td>1</td>\n",
       "      <td>5</td>\n",
       "      <td>0</td>\n",
       "    </tr>\n",
       "    <tr>\n",
       "      <th>1</th>\n",
       "      <td>2</td>\n",
       "      <td>6</td>\n",
       "      <td>1</td>\n",
       "    </tr>\n",
       "    <tr>\n",
       "      <th>2</th>\n",
       "      <td>3</td>\n",
       "      <td>7</td>\n",
       "      <td>2</td>\n",
       "    </tr>\n",
       "    <tr>\n",
       "      <th>3</th>\n",
       "      <td>4</td>\n",
       "      <td>8</td>\n",
       "      <td>3</td>\n",
       "    </tr>\n",
       "  </tbody>\n",
       "</table>\n",
       "</div>"
      ],
      "text/plain": [
       "   A  B  C\n",
       "0  1  5  0\n",
       "1  2  6  1\n",
       "2  3  7  2\n",
       "3  4  8  3"
      ]
     },
     "execution_count": 34,
     "metadata": {},
     "output_type": "execute_result"
    }
   ],
   "source": [
    "temp = 5\n",
    "x = {\"A\":[1,2,3,4],\"B\":[5,6,7,8]}\n",
    "df = pd.DataFrame(x)\n",
    "df[\"C\"] = df[\"B\"] - temp\n",
    "df\n"
   ]
  }
 ],
 "metadata": {
  "kernelspec": {
   "display_name": "d2l",
   "language": "python",
   "name": "python3"
  },
  "language_info": {
   "codemirror_mode": {
    "name": "ipython",
    "version": 3
   },
   "file_extension": ".py",
   "mimetype": "text/x-python",
   "name": "python",
   "nbconvert_exporter": "python",
   "pygments_lexer": "ipython3",
   "version": "3.9.19"
  }
 },
 "nbformat": 4,
 "nbformat_minor": 2
}
